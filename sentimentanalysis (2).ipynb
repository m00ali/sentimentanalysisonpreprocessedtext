{
  "nbformat": 4,
  "nbformat_minor": 0,
  "metadata": {
    "colab": {
      "provenance": []
    },
    "kernelspec": {
      "name": "python3",
      "display_name": "Python 3"
    },
    "language_info": {
      "name": "python"
    }
  },
  "cells": [
    {
      "cell_type": "markdown",
      "source": [
        "**IMPORTING LIBRARIES**"
      ],
      "metadata": {
        "id": "yLTvgL4pW9iy"
      }
    },
    {
      "cell_type": "code",
      "execution_count": null,
      "metadata": {
        "id": "DWovOq8VnQVd"
      },
      "outputs": [],
      "source": [
        "import spacy as sp\n",
        "from spacy.lang.en.stop_words import STOP_WORDS\n",
        "import nltk\n",
        "from nltk.tokenize import word_tokenize\n",
        "from nltk.corpus import stopwords\n",
        "from nltk.stem import WordNetLemmatizer\n",
        "from nltk.stem import PorterStemmer\n",
        "import pandas as pd"
      ]
    },
    {
      "cell_type": "code",
      "source": [
        "from nltk.tokenize import sent_tokenize"
      ],
      "metadata": {
        "id": "u7q5AK7Hsgg2"
      },
      "execution_count": null,
      "outputs": []
    },
    {
      "cell_type": "code",
      "source": [
        "nltk.download('stopwords')\n",
        "stop_words = set(stopwords.words(\"english\"))"
      ],
      "metadata": {
        "colab": {
          "base_uri": "https://localhost:8080/"
        },
        "id": "2pEpBcDtrjfE",
        "outputId": "1d946df5-b2cc-4858-dc3c-26c2cf6167da"
      },
      "execution_count": null,
      "outputs": [
        {
          "output_type": "stream",
          "name": "stderr",
          "text": [
            "[nltk_data] Downloading package stopwords to /root/nltk_data...\n",
            "[nltk_data]   Package stopwords is already up-to-date!\n"
          ]
        }
      ]
    },
    {
      "cell_type": "code",
      "source": [
        "nltk.download('punkt')"
      ],
      "metadata": {
        "colab": {
          "base_uri": "https://localhost:8080/"
        },
        "id": "hxzieWGysI3R",
        "outputId": "eb9cd189-006a-4e30-d682-9df6249709c1"
      },
      "execution_count": null,
      "outputs": [
        {
          "output_type": "stream",
          "name": "stderr",
          "text": [
            "[nltk_data] Downloading package punkt to /root/nltk_data...\n",
            "[nltk_data]   Package punkt is already up-to-date!\n"
          ]
        },
        {
          "output_type": "execute_result",
          "data": {
            "text/plain": [
              "True"
            ]
          },
          "metadata": {},
          "execution_count": 6
        }
      ]
    },
    {
      "cell_type": "code",
      "source": [
        "nltk.download('wordnet')"
      ],
      "metadata": {
        "colab": {
          "base_uri": "https://localhost:8080/"
        },
        "id": "0aamqb8KLCPh",
        "outputId": "d9745af8-fad9-46c2-dab2-aa42a651efec"
      },
      "execution_count": null,
      "outputs": [
        {
          "output_type": "stream",
          "name": "stderr",
          "text": [
            "[nltk_data] Downloading package wordnet to /root/nltk_data...\n",
            "[nltk_data]   Package wordnet is already up-to-date!\n"
          ]
        },
        {
          "output_type": "execute_result",
          "data": {
            "text/plain": [
              "True"
            ]
          },
          "metadata": {},
          "execution_count": 7
        }
      ]
    },
    {
      "cell_type": "markdown",
      "source": [
        "**DATASET INFORMATION**"
      ],
      "metadata": {
        "id": "3vrZ1_BpXBFr"
      }
    },
    {
      "cell_type": "code",
      "source": [
        "df=pd.read_csv('train.csv', encoding='latin1')"
      ],
      "metadata": {
        "id": "OEWqwDrrnoTj"
      },
      "execution_count": null,
      "outputs": []
    },
    {
      "cell_type": "code",
      "source": [
        "df.info()"
      ],
      "metadata": {
        "colab": {
          "base_uri": "https://localhost:8080/"
        },
        "id": "PZqQjG4znyU_",
        "outputId": "a6502577-b441-4b54-c276-3cb6d2b2046f"
      },
      "execution_count": null,
      "outputs": [
        {
          "output_type": "stream",
          "name": "stdout",
          "text": [
            "<class 'pandas.core.frame.DataFrame'>\n",
            "RangeIndex: 27481 entries, 0 to 27480\n",
            "Data columns (total 10 columns):\n",
            " #   Column            Non-Null Count  Dtype  \n",
            "---  ------            --------------  -----  \n",
            " 0   textID            27481 non-null  object \n",
            " 1   text              27480 non-null  object \n",
            " 2   selected_text     27480 non-null  object \n",
            " 3   sentiment         27481 non-null  object \n",
            " 4   Time of Tweet     27481 non-null  object \n",
            " 5   Age of User       27481 non-null  object \n",
            " 6   Country           27481 non-null  object \n",
            " 7   Population -2020  27481 non-null  int64  \n",
            " 8   Land Area (Km²)   27481 non-null  float64\n",
            " 9   Density (P/Km²)   27481 non-null  int64  \n",
            "dtypes: float64(1), int64(2), object(7)\n",
            "memory usage: 2.1+ MB\n"
          ]
        }
      ]
    },
    {
      "cell_type": "code",
      "source": [
        "df=df[['sentiment','text']]"
      ],
      "metadata": {
        "id": "nK2kTA0HIDtc"
      },
      "execution_count": null,
      "outputs": []
    },
    {
      "cell_type": "code",
      "source": [
        "df=df.dropna()"
      ],
      "metadata": {
        "id": "nBdbHTLQIMhg"
      },
      "execution_count": null,
      "outputs": []
    },
    {
      "cell_type": "code",
      "source": [
        "df.shape"
      ],
      "metadata": {
        "colab": {
          "base_uri": "https://localhost:8080/"
        },
        "id": "YtddmcKjISf1",
        "outputId": "9b920ce4-c86d-4414-bc9a-815083dd205c"
      },
      "execution_count": null,
      "outputs": [
        {
          "output_type": "execute_result",
          "data": {
            "text/plain": [
              "(27480, 2)"
            ]
          },
          "metadata": {},
          "execution_count": 12
        }
      ]
    },
    {
      "cell_type": "markdown",
      "source": [
        "**DATA PRE-PROCESSING** **using SPACY**"
      ],
      "metadata": {
        "id": "8QK2fICPIVZh"
      }
    },
    {
      "cell_type": "code",
      "source": [
        "for index, row in df.iterrows():   ##df.iterrows iterates over each row in datafrae, index variable represents value of row right now\n",
        "   doc = nlp(row['text'])   ## accessing the text of current row\n",
        "   tokens = [token.lemma_ for token in doc if not token.is_punct and not token.is_stop]\n",
        "   dataa = \" \".join(tokens)\n",
        "   df.at[index, 'processed_text'] = dataa"
      ],
      "metadata": {
        "id": "_vcDOACnnW-S"
      },
      "execution_count": null,
      "outputs": []
    },
    {
      "cell_type": "code",
      "source": [
        "df['processed_text']"
      ],
      "metadata": {
        "colab": {
          "base_uri": "https://localhost:8080/"
        },
        "id": "Hg7_tJcE6ca-",
        "outputId": "21a99501-3045-4f59-803f-157c01b26767"
      },
      "execution_count": null,
      "outputs": [
        {
          "output_type": "execute_result",
          "data": {
            "text/plain": [
              "0                                           I`d respond go\n",
              "1                                  Sooo SAD miss San Diego\n",
              "2                                               boss bully\n",
              "3                                          interview leave\n",
              "4                                 son couldn`t release buy\n",
              "                               ...                        \n",
              "27476      wish come u Denver   husband lose job can`t ...\n",
              "27477      I`ve wonder rake   client clear .NET don`t f...\n",
              "27478      yay good enjoy break probably need hectic we...\n",
              "27479                                              worth  \n",
              "27480                      flirting go ATG smile yay   hug\n",
              "Name: processed_text, Length: 27480, dtype: object"
            ]
          },
          "metadata": {},
          "execution_count": 16
        }
      ]
    },
    {
      "cell_type": "code",
      "source": [
        "df"
      ],
      "metadata": {
        "colab": {
          "base_uri": "https://localhost:8080/",
          "height": 798
        },
        "id": "tODBpy4E6hMi",
        "outputId": "9be73927-d1d8-4da1-c4db-22257b2caec3"
      },
      "execution_count": null,
      "outputs": [
        {
          "output_type": "execute_result",
          "data": {
            "text/plain": [
              "      sentiment                                               text  \\\n",
              "0       neutral                I`d have responded, if I were going   \n",
              "1      negative      Sooo SAD I will miss you here in San Diego!!!   \n",
              "2      negative                          my boss is bullying me...   \n",
              "3      negative                     what interview! leave me alone   \n",
              "4      negative   Sons of ****, why couldn`t they put them on t...   \n",
              "...         ...                                                ...   \n",
              "27476  negative   wish we could come see u on Denver  husband l...   \n",
              "27477  negative   I`ve wondered about rake to.  The client has ...   \n",
              "27478  positive   Yay good for both of you. Enjoy the break - y...   \n",
              "27479  positive                         But it was worth it  ****.   \n",
              "27480   neutral     All this flirting going on - The ATG smiles...   \n",
              "\n",
              "                                          processed_text  \n",
              "0                                         I`d respond go  \n",
              "1                                Sooo SAD miss San Diego  \n",
              "2                                             boss bully  \n",
              "3                                        interview leave  \n",
              "4                               son couldn`t release buy  \n",
              "...                                                  ...  \n",
              "27476    wish come u Denver   husband lose job can`t ...  \n",
              "27477    I`ve wonder rake   client clear .NET don`t f...  \n",
              "27478    yay good enjoy break probably need hectic we...  \n",
              "27479                                            worth    \n",
              "27480                    flirting go ATG smile yay   hug  \n",
              "\n",
              "[27480 rows x 3 columns]"
            ],
            "text/html": [
              "\n",
              "\n",
              "  <div id=\"df-f05acdd5-99b6-4d1a-a0af-b9d226fd44bb\">\n",
              "    <div class=\"colab-df-container\">\n",
              "      <div>\n",
              "<style scoped>\n",
              "    .dataframe tbody tr th:only-of-type {\n",
              "        vertical-align: middle;\n",
              "    }\n",
              "\n",
              "    .dataframe tbody tr th {\n",
              "        vertical-align: top;\n",
              "    }\n",
              "\n",
              "    .dataframe thead th {\n",
              "        text-align: right;\n",
              "    }\n",
              "</style>\n",
              "<table border=\"1\" class=\"dataframe\">\n",
              "  <thead>\n",
              "    <tr style=\"text-align: right;\">\n",
              "      <th></th>\n",
              "      <th>sentiment</th>\n",
              "      <th>text</th>\n",
              "      <th>processed_text</th>\n",
              "    </tr>\n",
              "  </thead>\n",
              "  <tbody>\n",
              "    <tr>\n",
              "      <th>0</th>\n",
              "      <td>neutral</td>\n",
              "      <td>I`d have responded, if I were going</td>\n",
              "      <td>I`d respond go</td>\n",
              "    </tr>\n",
              "    <tr>\n",
              "      <th>1</th>\n",
              "      <td>negative</td>\n",
              "      <td>Sooo SAD I will miss you here in San Diego!!!</td>\n",
              "      <td>Sooo SAD miss San Diego</td>\n",
              "    </tr>\n",
              "    <tr>\n",
              "      <th>2</th>\n",
              "      <td>negative</td>\n",
              "      <td>my boss is bullying me...</td>\n",
              "      <td>boss bully</td>\n",
              "    </tr>\n",
              "    <tr>\n",
              "      <th>3</th>\n",
              "      <td>negative</td>\n",
              "      <td>what interview! leave me alone</td>\n",
              "      <td>interview leave</td>\n",
              "    </tr>\n",
              "    <tr>\n",
              "      <th>4</th>\n",
              "      <td>negative</td>\n",
              "      <td>Sons of ****, why couldn`t they put them on t...</td>\n",
              "      <td>son couldn`t release buy</td>\n",
              "    </tr>\n",
              "    <tr>\n",
              "      <th>...</th>\n",
              "      <td>...</td>\n",
              "      <td>...</td>\n",
              "      <td>...</td>\n",
              "    </tr>\n",
              "    <tr>\n",
              "      <th>27476</th>\n",
              "      <td>negative</td>\n",
              "      <td>wish we could come see u on Denver  husband l...</td>\n",
              "      <td>wish come u Denver   husband lose job can`t ...</td>\n",
              "    </tr>\n",
              "    <tr>\n",
              "      <th>27477</th>\n",
              "      <td>negative</td>\n",
              "      <td>I`ve wondered about rake to.  The client has ...</td>\n",
              "      <td>I`ve wonder rake   client clear .NET don`t f...</td>\n",
              "    </tr>\n",
              "    <tr>\n",
              "      <th>27478</th>\n",
              "      <td>positive</td>\n",
              "      <td>Yay good for both of you. Enjoy the break - y...</td>\n",
              "      <td>yay good enjoy break probably need hectic we...</td>\n",
              "    </tr>\n",
              "    <tr>\n",
              "      <th>27479</th>\n",
              "      <td>positive</td>\n",
              "      <td>But it was worth it  ****.</td>\n",
              "      <td>worth</td>\n",
              "    </tr>\n",
              "    <tr>\n",
              "      <th>27480</th>\n",
              "      <td>neutral</td>\n",
              "      <td>All this flirting going on - The ATG smiles...</td>\n",
              "      <td>flirting go ATG smile yay   hug</td>\n",
              "    </tr>\n",
              "  </tbody>\n",
              "</table>\n",
              "<p>27480 rows × 3 columns</p>\n",
              "</div>\n",
              "      <button class=\"colab-df-convert\" onclick=\"convertToInteractive('df-f05acdd5-99b6-4d1a-a0af-b9d226fd44bb')\"\n",
              "              title=\"Convert this dataframe to an interactive table.\"\n",
              "              style=\"display:none;\">\n",
              "\n",
              "  <svg xmlns=\"http://www.w3.org/2000/svg\" height=\"24px\"viewBox=\"0 0 24 24\"\n",
              "       width=\"24px\">\n",
              "    <path d=\"M0 0h24v24H0V0z\" fill=\"none\"/>\n",
              "    <path d=\"M18.56 5.44l.94 2.06.94-2.06 2.06-.94-2.06-.94-.94-2.06-.94 2.06-2.06.94zm-11 1L8.5 8.5l.94-2.06 2.06-.94-2.06-.94L8.5 2.5l-.94 2.06-2.06.94zm10 10l.94 2.06.94-2.06 2.06-.94-2.06-.94-.94-2.06-.94 2.06-2.06.94z\"/><path d=\"M17.41 7.96l-1.37-1.37c-.4-.4-.92-.59-1.43-.59-.52 0-1.04.2-1.43.59L10.3 9.45l-7.72 7.72c-.78.78-.78 2.05 0 2.83L4 21.41c.39.39.9.59 1.41.59.51 0 1.02-.2 1.41-.59l7.78-7.78 2.81-2.81c.8-.78.8-2.07 0-2.86zM5.41 20L4 18.59l7.72-7.72 1.47 1.35L5.41 20z\"/>\n",
              "  </svg>\n",
              "      </button>\n",
              "\n",
              "\n",
              "\n",
              "    <div id=\"df-deff150e-b262-4b0b-8957-e235c554d527\">\n",
              "      <button class=\"colab-df-quickchart\" onclick=\"quickchart('df-deff150e-b262-4b0b-8957-e235c554d527')\"\n",
              "              title=\"Suggest charts.\"\n",
              "              style=\"display:none;\">\n",
              "\n",
              "<svg xmlns=\"http://www.w3.org/2000/svg\" height=\"24px\"viewBox=\"0 0 24 24\"\n",
              "     width=\"24px\">\n",
              "    <g>\n",
              "        <path d=\"M19 3H5c-1.1 0-2 .9-2 2v14c0 1.1.9 2 2 2h14c1.1 0 2-.9 2-2V5c0-1.1-.9-2-2-2zM9 17H7v-7h2v7zm4 0h-2V7h2v10zm4 0h-2v-4h2v4z\"/>\n",
              "    </g>\n",
              "</svg>\n",
              "      </button>\n",
              "    </div>\n",
              "\n",
              "<style>\n",
              "  .colab-df-quickchart {\n",
              "    background-color: #E8F0FE;\n",
              "    border: none;\n",
              "    border-radius: 50%;\n",
              "    cursor: pointer;\n",
              "    display: none;\n",
              "    fill: #1967D2;\n",
              "    height: 32px;\n",
              "    padding: 0 0 0 0;\n",
              "    width: 32px;\n",
              "  }\n",
              "\n",
              "  .colab-df-quickchart:hover {\n",
              "    background-color: #E2EBFA;\n",
              "    box-shadow: 0px 1px 2px rgba(60, 64, 67, 0.3), 0px 1px 3px 1px rgba(60, 64, 67, 0.15);\n",
              "    fill: #174EA6;\n",
              "  }\n",
              "\n",
              "  [theme=dark] .colab-df-quickchart {\n",
              "    background-color: #3B4455;\n",
              "    fill: #D2E3FC;\n",
              "  }\n",
              "\n",
              "  [theme=dark] .colab-df-quickchart:hover {\n",
              "    background-color: #434B5C;\n",
              "    box-shadow: 0px 1px 3px 1px rgba(0, 0, 0, 0.15);\n",
              "    filter: drop-shadow(0px 1px 2px rgba(0, 0, 0, 0.3));\n",
              "    fill: #FFFFFF;\n",
              "  }\n",
              "</style>\n",
              "\n",
              "    <script>\n",
              "      async function quickchart(key) {\n",
              "        const containerElement = document.querySelector('#' + key);\n",
              "        const charts = await google.colab.kernel.invokeFunction(\n",
              "            'suggestCharts', [key], {});\n",
              "      }\n",
              "    </script>\n",
              "\n",
              "      <script>\n",
              "\n",
              "function displayQuickchartButton(domScope) {\n",
              "  let quickchartButtonEl =\n",
              "    domScope.querySelector('#df-deff150e-b262-4b0b-8957-e235c554d527 button.colab-df-quickchart');\n",
              "  quickchartButtonEl.style.display =\n",
              "    google.colab.kernel.accessAllowed ? 'block' : 'none';\n",
              "}\n",
              "\n",
              "        displayQuickchartButton(document);\n",
              "      </script>\n",
              "      <style>\n",
              "    .colab-df-container {\n",
              "      display:flex;\n",
              "      flex-wrap:wrap;\n",
              "      gap: 12px;\n",
              "    }\n",
              "\n",
              "    .colab-df-convert {\n",
              "      background-color: #E8F0FE;\n",
              "      border: none;\n",
              "      border-radius: 50%;\n",
              "      cursor: pointer;\n",
              "      display: none;\n",
              "      fill: #1967D2;\n",
              "      height: 32px;\n",
              "      padding: 0 0 0 0;\n",
              "      width: 32px;\n",
              "    }\n",
              "\n",
              "    .colab-df-convert:hover {\n",
              "      background-color: #E2EBFA;\n",
              "      box-shadow: 0px 1px 2px rgba(60, 64, 67, 0.3), 0px 1px 3px 1px rgba(60, 64, 67, 0.15);\n",
              "      fill: #174EA6;\n",
              "    }\n",
              "\n",
              "    [theme=dark] .colab-df-convert {\n",
              "      background-color: #3B4455;\n",
              "      fill: #D2E3FC;\n",
              "    }\n",
              "\n",
              "    [theme=dark] .colab-df-convert:hover {\n",
              "      background-color: #434B5C;\n",
              "      box-shadow: 0px 1px 3px 1px rgba(0, 0, 0, 0.15);\n",
              "      filter: drop-shadow(0px 1px 2px rgba(0, 0, 0, 0.3));\n",
              "      fill: #FFFFFF;\n",
              "    }\n",
              "  </style>\n",
              "\n",
              "      <script>\n",
              "        const buttonEl =\n",
              "          document.querySelector('#df-f05acdd5-99b6-4d1a-a0af-b9d226fd44bb button.colab-df-convert');\n",
              "        buttonEl.style.display =\n",
              "          google.colab.kernel.accessAllowed ? 'block' : 'none';\n",
              "\n",
              "        async function convertToInteractive(key) {\n",
              "          const element = document.querySelector('#df-f05acdd5-99b6-4d1a-a0af-b9d226fd44bb');\n",
              "          const dataTable =\n",
              "            await google.colab.kernel.invokeFunction('convertToInteractive',\n",
              "                                                     [key], {});\n",
              "          if (!dataTable) return;\n",
              "\n",
              "          const docLinkHtml = 'Like what you see? Visit the ' +\n",
              "            '<a target=\"_blank\" href=https://colab.research.google.com/notebooks/data_table.ipynb>data table notebook</a>'\n",
              "            + ' to learn more about interactive tables.';\n",
              "          element.innerHTML = '';\n",
              "          dataTable['output_type'] = 'display_data';\n",
              "          await google.colab.output.renderOutput(dataTable, element);\n",
              "          const docLink = document.createElement('div');\n",
              "          docLink.innerHTML = docLinkHtml;\n",
              "          element.appendChild(docLink);\n",
              "        }\n",
              "      </script>\n",
              "    </div>\n",
              "  </div>\n"
            ]
          },
          "metadata": {},
          "execution_count": 17
        },
        {
          "output_type": "stream",
          "name": "stdout",
          "text": [
            "Warning: total number of rows (27480) exceeds max_rows (20000). Limiting to first (20000) rows.\n"
          ]
        }
      ]
    },
    {
      "cell_type": "markdown",
      "source": [
        "**DATA PREPROCESSING USING NLTK**"
      ],
      "metadata": {
        "id": "tsph71BbwP8H"
      }
    },
    {
      "cell_type": "code",
      "source": [
        "dfnew=df.copy()"
      ],
      "metadata": {
        "id": "esMg8jYDA48c"
      },
      "execution_count": null,
      "outputs": []
    },
    {
      "cell_type": "code",
      "source": [
        "lemmatizer = WordNetLemmatizer()\n",
        "stop_words = set(stopwords.words('english'))\n",
        "\n",
        "for index, row in df.iterrows():\n",
        "    text = row['text']\n",
        "    tokens = word_tokenize(text.lower())\n",
        "    tokens = [lemmatizer.lemmatize(token) for token in tokens if token.isalpha() and not token in stop_words]  # Lemmatize,filter out non-alphabetic tokens,remove stopwords\n",
        "    dataaa = \" \".join(tokens)\n",
        "    dfnew.at[index, 'processed__text'] = dataaa\n"
      ],
      "metadata": {
        "id": "tfVlvAdswT0T"
      },
      "execution_count": null,
      "outputs": []
    },
    {
      "cell_type": "code",
      "source": [
        "dfnew"
      ],
      "metadata": {
        "colab": {
          "base_uri": "https://localhost:8080/",
          "height": 467
        },
        "id": "oVjrAhEsxksm",
        "outputId": "01741698-4486-4575-831b-0c59c558f0fa"
      },
      "execution_count": null,
      "outputs": [
        {
          "output_type": "execute_result",
          "data": {
            "text/plain": [
              "      sentiment                                               text  \\\n",
              "0       neutral                I`d have responded, if I were going   \n",
              "1      negative      Sooo SAD I will miss you here in San Diego!!!   \n",
              "2      negative                          my boss is bullying me...   \n",
              "3      negative                     what interview! leave me alone   \n",
              "4      negative   Sons of ****, why couldn`t they put them on t...   \n",
              "...         ...                                                ...   \n",
              "27476  negative   wish we could come see u on Denver  husband l...   \n",
              "27477  negative   I`ve wondered about rake to.  The client has ...   \n",
              "27478  positive   Yay good for both of you. Enjoy the break - y...   \n",
              "27479  positive                         But it was worth it  ****.   \n",
              "27480   neutral     All this flirting going on - The ATG smiles...   \n",
              "\n",
              "                                          processed_text  \\\n",
              "0                                         I`d respond go   \n",
              "1                                Sooo SAD miss San Diego   \n",
              "2                                             boss bully   \n",
              "3                                        interview leave   \n",
              "4                               son couldn`t release buy   \n",
              "...                                                  ...   \n",
              "27476    wish come u Denver   husband lose job can`t ...   \n",
              "27477    I`ve wonder rake   client clear .NET don`t f...   \n",
              "27478    yay good enjoy break probably need hectic we...   \n",
              "27479                                            worth     \n",
              "27480                    flirting go ATG smile yay   hug   \n",
              "\n",
              "                                         processed__text  \n",
              "0                                        responded going  \n",
              "1                                sooo sad miss san diego  \n",
              "2                                           bos bullying  \n",
              "3                                  interview leave alone  \n",
              "4                         son put release already bought  \n",
              "...                                                  ...  \n",
              "27476  wish could come see u denver husband lost job ...  \n",
              "27477  wondered rake client made clear force devs lea...  \n",
              "27478  yay good enjoy break probably need hectic week...  \n",
              "27479                                              worth  \n",
              "27480                   flirting going atg smile yay hug  \n",
              "\n",
              "[27480 rows x 4 columns]"
            ],
            "text/html": [
              "\n",
              "\n",
              "  <div id=\"df-ddebd32d-89bf-4d49-8a37-0b660b1e6cfb\">\n",
              "    <div class=\"colab-df-container\">\n",
              "      <div>\n",
              "<style scoped>\n",
              "    .dataframe tbody tr th:only-of-type {\n",
              "        vertical-align: middle;\n",
              "    }\n",
              "\n",
              "    .dataframe tbody tr th {\n",
              "        vertical-align: top;\n",
              "    }\n",
              "\n",
              "    .dataframe thead th {\n",
              "        text-align: right;\n",
              "    }\n",
              "</style>\n",
              "<table border=\"1\" class=\"dataframe\">\n",
              "  <thead>\n",
              "    <tr style=\"text-align: right;\">\n",
              "      <th></th>\n",
              "      <th>sentiment</th>\n",
              "      <th>text</th>\n",
              "      <th>processed_text</th>\n",
              "      <th>processed__text</th>\n",
              "    </tr>\n",
              "  </thead>\n",
              "  <tbody>\n",
              "    <tr>\n",
              "      <th>0</th>\n",
              "      <td>neutral</td>\n",
              "      <td>I`d have responded, if I were going</td>\n",
              "      <td>I`d respond go</td>\n",
              "      <td>responded going</td>\n",
              "    </tr>\n",
              "    <tr>\n",
              "      <th>1</th>\n",
              "      <td>negative</td>\n",
              "      <td>Sooo SAD I will miss you here in San Diego!!!</td>\n",
              "      <td>Sooo SAD miss San Diego</td>\n",
              "      <td>sooo sad miss san diego</td>\n",
              "    </tr>\n",
              "    <tr>\n",
              "      <th>2</th>\n",
              "      <td>negative</td>\n",
              "      <td>my boss is bullying me...</td>\n",
              "      <td>boss bully</td>\n",
              "      <td>bos bullying</td>\n",
              "    </tr>\n",
              "    <tr>\n",
              "      <th>3</th>\n",
              "      <td>negative</td>\n",
              "      <td>what interview! leave me alone</td>\n",
              "      <td>interview leave</td>\n",
              "      <td>interview leave alone</td>\n",
              "    </tr>\n",
              "    <tr>\n",
              "      <th>4</th>\n",
              "      <td>negative</td>\n",
              "      <td>Sons of ****, why couldn`t they put them on t...</td>\n",
              "      <td>son couldn`t release buy</td>\n",
              "      <td>son put release already bought</td>\n",
              "    </tr>\n",
              "    <tr>\n",
              "      <th>...</th>\n",
              "      <td>...</td>\n",
              "      <td>...</td>\n",
              "      <td>...</td>\n",
              "      <td>...</td>\n",
              "    </tr>\n",
              "    <tr>\n",
              "      <th>27476</th>\n",
              "      <td>negative</td>\n",
              "      <td>wish we could come see u on Denver  husband l...</td>\n",
              "      <td>wish come u Denver   husband lose job can`t ...</td>\n",
              "      <td>wish could come see u denver husband lost job ...</td>\n",
              "    </tr>\n",
              "    <tr>\n",
              "      <th>27477</th>\n",
              "      <td>negative</td>\n",
              "      <td>I`ve wondered about rake to.  The client has ...</td>\n",
              "      <td>I`ve wonder rake   client clear .NET don`t f...</td>\n",
              "      <td>wondered rake client made clear force devs lea...</td>\n",
              "    </tr>\n",
              "    <tr>\n",
              "      <th>27478</th>\n",
              "      <td>positive</td>\n",
              "      <td>Yay good for both of you. Enjoy the break - y...</td>\n",
              "      <td>yay good enjoy break probably need hectic we...</td>\n",
              "      <td>yay good enjoy break probably need hectic week...</td>\n",
              "    </tr>\n",
              "    <tr>\n",
              "      <th>27479</th>\n",
              "      <td>positive</td>\n",
              "      <td>But it was worth it  ****.</td>\n",
              "      <td>worth</td>\n",
              "      <td>worth</td>\n",
              "    </tr>\n",
              "    <tr>\n",
              "      <th>27480</th>\n",
              "      <td>neutral</td>\n",
              "      <td>All this flirting going on - The ATG smiles...</td>\n",
              "      <td>flirting go ATG smile yay   hug</td>\n",
              "      <td>flirting going atg smile yay hug</td>\n",
              "    </tr>\n",
              "  </tbody>\n",
              "</table>\n",
              "<p>27480 rows × 4 columns</p>\n",
              "</div>\n",
              "      <button class=\"colab-df-convert\" onclick=\"convertToInteractive('df-ddebd32d-89bf-4d49-8a37-0b660b1e6cfb')\"\n",
              "              title=\"Convert this dataframe to an interactive table.\"\n",
              "              style=\"display:none;\">\n",
              "\n",
              "  <svg xmlns=\"http://www.w3.org/2000/svg\" height=\"24px\"viewBox=\"0 0 24 24\"\n",
              "       width=\"24px\">\n",
              "    <path d=\"M0 0h24v24H0V0z\" fill=\"none\"/>\n",
              "    <path d=\"M18.56 5.44l.94 2.06.94-2.06 2.06-.94-2.06-.94-.94-2.06-.94 2.06-2.06.94zm-11 1L8.5 8.5l.94-2.06 2.06-.94-2.06-.94L8.5 2.5l-.94 2.06-2.06.94zm10 10l.94 2.06.94-2.06 2.06-.94-2.06-.94-.94-2.06-.94 2.06-2.06.94z\"/><path d=\"M17.41 7.96l-1.37-1.37c-.4-.4-.92-.59-1.43-.59-.52 0-1.04.2-1.43.59L10.3 9.45l-7.72 7.72c-.78.78-.78 2.05 0 2.83L4 21.41c.39.39.9.59 1.41.59.51 0 1.02-.2 1.41-.59l7.78-7.78 2.81-2.81c.8-.78.8-2.07 0-2.86zM5.41 20L4 18.59l7.72-7.72 1.47 1.35L5.41 20z\"/>\n",
              "  </svg>\n",
              "      </button>\n",
              "\n",
              "\n",
              "\n",
              "    <div id=\"df-653efaec-215f-4b4c-8d17-51bbe1c00cf7\">\n",
              "      <button class=\"colab-df-quickchart\" onclick=\"quickchart('df-653efaec-215f-4b4c-8d17-51bbe1c00cf7')\"\n",
              "              title=\"Suggest charts.\"\n",
              "              style=\"display:none;\">\n",
              "\n",
              "<svg xmlns=\"http://www.w3.org/2000/svg\" height=\"24px\"viewBox=\"0 0 24 24\"\n",
              "     width=\"24px\">\n",
              "    <g>\n",
              "        <path d=\"M19 3H5c-1.1 0-2 .9-2 2v14c0 1.1.9 2 2 2h14c1.1 0 2-.9 2-2V5c0-1.1-.9-2-2-2zM9 17H7v-7h2v7zm4 0h-2V7h2v10zm4 0h-2v-4h2v4z\"/>\n",
              "    </g>\n",
              "</svg>\n",
              "      </button>\n",
              "    </div>\n",
              "\n",
              "<style>\n",
              "  .colab-df-quickchart {\n",
              "    background-color: #E8F0FE;\n",
              "    border: none;\n",
              "    border-radius: 50%;\n",
              "    cursor: pointer;\n",
              "    display: none;\n",
              "    fill: #1967D2;\n",
              "    height: 32px;\n",
              "    padding: 0 0 0 0;\n",
              "    width: 32px;\n",
              "  }\n",
              "\n",
              "  .colab-df-quickchart:hover {\n",
              "    background-color: #E2EBFA;\n",
              "    box-shadow: 0px 1px 2px rgba(60, 64, 67, 0.3), 0px 1px 3px 1px rgba(60, 64, 67, 0.15);\n",
              "    fill: #174EA6;\n",
              "  }\n",
              "\n",
              "  [theme=dark] .colab-df-quickchart {\n",
              "    background-color: #3B4455;\n",
              "    fill: #D2E3FC;\n",
              "  }\n",
              "\n",
              "  [theme=dark] .colab-df-quickchart:hover {\n",
              "    background-color: #434B5C;\n",
              "    box-shadow: 0px 1px 3px 1px rgba(0, 0, 0, 0.15);\n",
              "    filter: drop-shadow(0px 1px 2px rgba(0, 0, 0, 0.3));\n",
              "    fill: #FFFFFF;\n",
              "  }\n",
              "</style>\n",
              "\n",
              "    <script>\n",
              "      async function quickchart(key) {\n",
              "        const containerElement = document.querySelector('#' + key);\n",
              "        const charts = await google.colab.kernel.invokeFunction(\n",
              "            'suggestCharts', [key], {});\n",
              "      }\n",
              "    </script>\n",
              "\n",
              "      <script>\n",
              "\n",
              "function displayQuickchartButton(domScope) {\n",
              "  let quickchartButtonEl =\n",
              "    domScope.querySelector('#df-653efaec-215f-4b4c-8d17-51bbe1c00cf7 button.colab-df-quickchart');\n",
              "  quickchartButtonEl.style.display =\n",
              "    google.colab.kernel.accessAllowed ? 'block' : 'none';\n",
              "}\n",
              "\n",
              "        displayQuickchartButton(document);\n",
              "      </script>\n",
              "      <style>\n",
              "    .colab-df-container {\n",
              "      display:flex;\n",
              "      flex-wrap:wrap;\n",
              "      gap: 12px;\n",
              "    }\n",
              "\n",
              "    .colab-df-convert {\n",
              "      background-color: #E8F0FE;\n",
              "      border: none;\n",
              "      border-radius: 50%;\n",
              "      cursor: pointer;\n",
              "      display: none;\n",
              "      fill: #1967D2;\n",
              "      height: 32px;\n",
              "      padding: 0 0 0 0;\n",
              "      width: 32px;\n",
              "    }\n",
              "\n",
              "    .colab-df-convert:hover {\n",
              "      background-color: #E2EBFA;\n",
              "      box-shadow: 0px 1px 2px rgba(60, 64, 67, 0.3), 0px 1px 3px 1px rgba(60, 64, 67, 0.15);\n",
              "      fill: #174EA6;\n",
              "    }\n",
              "\n",
              "    [theme=dark] .colab-df-convert {\n",
              "      background-color: #3B4455;\n",
              "      fill: #D2E3FC;\n",
              "    }\n",
              "\n",
              "    [theme=dark] .colab-df-convert:hover {\n",
              "      background-color: #434B5C;\n",
              "      box-shadow: 0px 1px 3px 1px rgba(0, 0, 0, 0.15);\n",
              "      filter: drop-shadow(0px 1px 2px rgba(0, 0, 0, 0.3));\n",
              "      fill: #FFFFFF;\n",
              "    }\n",
              "  </style>\n",
              "\n",
              "      <script>\n",
              "        const buttonEl =\n",
              "          document.querySelector('#df-ddebd32d-89bf-4d49-8a37-0b660b1e6cfb button.colab-df-convert');\n",
              "        buttonEl.style.display =\n",
              "          google.colab.kernel.accessAllowed ? 'block' : 'none';\n",
              "\n",
              "        async function convertToInteractive(key) {\n",
              "          const element = document.querySelector('#df-ddebd32d-89bf-4d49-8a37-0b660b1e6cfb');\n",
              "          const dataTable =\n",
              "            await google.colab.kernel.invokeFunction('convertToInteractive',\n",
              "                                                     [key], {});\n",
              "          if (!dataTable) return;\n",
              "\n",
              "          const docLinkHtml = 'Like what you see? Visit the ' +\n",
              "            '<a target=\"_blank\" href=https://colab.research.google.com/notebooks/data_table.ipynb>data table notebook</a>'\n",
              "            + ' to learn more about interactive tables.';\n",
              "          element.innerHTML = '';\n",
              "          dataTable['output_type'] = 'display_data';\n",
              "          await google.colab.output.renderOutput(dataTable, element);\n",
              "          const docLink = document.createElement('div');\n",
              "          docLink.innerHTML = docLinkHtml;\n",
              "          element.appendChild(docLink);\n",
              "        }\n",
              "      </script>\n",
              "    </div>\n",
              "  </div>\n"
            ]
          },
          "metadata": {},
          "execution_count": 54
        }
      ]
    },
    {
      "cell_type": "markdown",
      "source": [
        "**TFIDF AND NAIVE BAYES CLASSIFIER** using DATA CLEANED FROM SPACY"
      ],
      "metadata": {
        "id": "kND_ngnQzh_a"
      }
    },
    {
      "cell_type": "code",
      "source": [
        "from sklearn.feature_extraction.text import TfidfVectorizer\n",
        "from sklearn.naive_bayes import MultinomialNB\n",
        "from sklearn.model_selection import train_test_split\n",
        "from sklearn.metrics import accuracy_score, precision_score,recall_score,f1_score\n",
        "\n",
        "X=df['processed_text']\n",
        "y=df['sentiment']\n",
        "\n",
        "X_train, X_test, y_train, y_test = train_test_split(X,y, test_size=0.15, random_state=42 )\n",
        "\n",
        "vectorizer = TfidfVectorizer()\n",
        "\n",
        "X_train_tfidf = vectorizer.fit_transform(X_train)\n",
        "\n",
        "X_test_tfidf = vectorizer.transform(X_test)\n",
        "\n",
        "classifier = MultinomialNB()\n",
        "\n",
        "classifier.fit(X_train_tfidf, y_train)\n",
        "\n",
        "y_pred = classifier.predict(X_test_tfidf)\n",
        "\n",
        "accuracy = accuracy_score(y_test, y_pred)\n",
        "precision = precision_score(y_test, y_pred, average='weighted')\n",
        "recall = recall_score(y_test, y_pred, average='weighted')\n",
        "f1score = f1_score(y_test, y_pred, average='weighted')\n",
        "\n",
        "print(\"Precision:\", precision)\n",
        "print(\"Recall:\", recall)\n",
        "print(\"Accuracy:\", accuracy)\n",
        "print('F1 Score', f1score)\n"
      ],
      "metadata": {
        "colab": {
          "base_uri": "https://localhost:8080/"
        },
        "id": "blOyCfRLzu7B",
        "outputId": "3f9fb194-a9ab-4b71-f724-74d60c4dc477"
      },
      "execution_count": null,
      "outputs": [
        {
          "output_type": "stream",
          "name": "stdout",
          "text": [
            "Precision: 0.6575610572371137\n",
            "Recall: 0.621300339640951\n",
            "Accuracy: 0.621300339640951\n",
            "F1 Score 0.6142935511324495\n"
          ]
        }
      ]
    },
    {
      "cell_type": "code",
      "source": [
        "X_train.shape"
      ],
      "metadata": {
        "colab": {
          "base_uri": "https://localhost:8080/"
        },
        "id": "zOqNDLqdNRRN",
        "outputId": "36168377-ff2d-4bca-d390-d7901b4f6189"
      },
      "execution_count": null,
      "outputs": [
        {
          "output_type": "execute_result",
          "data": {
            "text/plain": [
              "(23358,)"
            ]
          },
          "metadata": {},
          "execution_count": 65
        }
      ]
    },
    {
      "cell_type": "code",
      "source": [
        "X_test.shape"
      ],
      "metadata": {
        "colab": {
          "base_uri": "https://localhost:8080/"
        },
        "id": "EtO3IMesNor0",
        "outputId": "f29ac80a-531b-45ae-9adc-b3a0c3c61283"
      },
      "execution_count": null,
      "outputs": [
        {
          "output_type": "execute_result",
          "data": {
            "text/plain": [
              "(4122,)"
            ]
          },
          "metadata": {},
          "execution_count": 69
        }
      ]
    },
    {
      "cell_type": "code",
      "source": [
        "y_train.shape"
      ],
      "metadata": {
        "colab": {
          "base_uri": "https://localhost:8080/"
        },
        "id": "0x-unfxSN02T",
        "outputId": "0de61d3e-208a-49aa-9a2b-490d55e96f9e"
      },
      "execution_count": null,
      "outputs": [
        {
          "output_type": "execute_result",
          "data": {
            "text/plain": [
              "(23358,)"
            ]
          },
          "metadata": {},
          "execution_count": 70
        }
      ]
    },
    {
      "cell_type": "code",
      "source": [
        "y_test.shape"
      ],
      "metadata": {
        "colab": {
          "base_uri": "https://localhost:8080/"
        },
        "id": "h-KRek_EN3R-",
        "outputId": "188e1b4e-20c3-44b5-98d9-610e059d83c9"
      },
      "execution_count": null,
      "outputs": [
        {
          "output_type": "execute_result",
          "data": {
            "text/plain": [
              "(4122,)"
            ]
          },
          "metadata": {},
          "execution_count": 71
        }
      ]
    },
    {
      "cell_type": "markdown",
      "source": [
        "**TFIDF AND NAIVE BAYES CLASSIFIER** using DATA CLEANED FROM NLTK"
      ],
      "metadata": {
        "id": "cVVFPyW_IG74"
      }
    },
    {
      "cell_type": "code",
      "source": [
        "X=dfnew['processed__text']\n",
        "y=dfnew['sentiment']\n",
        "\n",
        "Xtrain, Xtest, ytrain, ytest = train_test_split(X,y, test_size=0.15, random_state=42 )\n",
        "\n",
        "vectorizer = TfidfVectorizer()\n",
        "\n",
        "Xtrain_tfidf = vectorizer.fit_transform(Xtrain)\n",
        "\n",
        "Xtest_tfidf = vectorizer.transform(Xtest)\n",
        "\n",
        "classifier = MultinomialNB()\n",
        "\n",
        "classifier.fit(Xtrain_tfidf, ytrain)\n",
        "\n",
        "ypred = classifier.predict(Xtest_tfidf)\n",
        "\n",
        "accuracyy = accuracy_score(ytest, ypred)\n",
        "precisionn= precision_score(ytest, ypred, average='weighted')\n",
        "recalll = recall_score(ytest, ypred, average='weighted')\n",
        "f1scoree = f1_score(ytest, ypred, average='weighted')\n",
        "\n",
        "print(\"Precision:\", precisionn)\n",
        "print(\"Recall:\", recalll)\n",
        "print(\"Accuracy:\", accuracyy)\n",
        "print('F1 Score', f1scoree)\n"
      ],
      "metadata": {
        "colab": {
          "base_uri": "https://localhost:8080/"
        },
        "id": "nSZo7J8IIJT7",
        "outputId": "6fe987ce-7257-4415-9f65-7536f1d8e16a"
      },
      "execution_count": null,
      "outputs": [
        {
          "output_type": "stream",
          "name": "stdout",
          "text": [
            "Precision: 0.6645151252177114\n",
            "Recall: 0.6266375545851528\n",
            "Accuracy: 0.6266375545851528\n",
            "F1 Score 0.6196434364946701\n"
          ]
        }
      ]
    },
    {
      "cell_type": "markdown",
      "source": [
        "**USING SUPERVISED VECTOR MACHINES** on SPACY data\n",
        "\n",
        "\n"
      ],
      "metadata": {
        "id": "wuIAngUtrQmg"
      }
    },
    {
      "cell_type": "code",
      "source": [
        "from sklearn import svm\n",
        "from sklearn.metrics import classification_report\n",
        "\n",
        "X=df['processed_text']\n",
        "y=df['sentiment']\n",
        "\n",
        "X__train, X__test, y__train, y__test = train_test_split(X,y, test_size=0.15, random_state=42 )\n",
        "\n",
        "vectorizerr = TfidfVectorizer()\n",
        "\n",
        "X__train_tfidf = vectorizerr.fit_transform(X__train)\n",
        "\n",
        "X__test_tfidf = vectorizerr.transform(X__test)\n",
        "\n",
        "classifier=svm.SVC(kernel='linear', random_state=0, C=1.0, gamma=0.0,coef0=0.0)\n",
        "classifier.fit(X_train_tfidf,y_train)\n",
        "\n",
        "\n",
        "y__pred=classifier.predict(X_test_tfidf)\n",
        "\n",
        "acuracy = accuracy_score(y__test, y__pred)\n",
        "precsion = precision_score(y__test, y__pred, average='weighted')\n",
        "recal = recall_score(y__test, y__pred, average='weighted')\n",
        "f1scor = f1_score(y__test, y__pred, average='weighted')\n",
        "\n",
        "print(\"Precision:\", precsion)\n",
        "print(\"Recall:\", recal)\n",
        "print(\"Accuracy:\", acuracy)\n",
        "print('F1 Score', f1scor)"
      ],
      "metadata": {
        "colab": {
          "base_uri": "https://localhost:8080/"
        },
        "id": "oUYNKatCrVei",
        "outputId": "a27b1b74-1592-45f0-f32d-39ecd0fd0993"
      },
      "execution_count": null,
      "outputs": [
        {
          "output_type": "stream",
          "name": "stdout",
          "text": [
            "Precision: 0.7073166384443653\n",
            "Recall: 0.7023289665211062\n",
            "Accuracy: 0.7023289665211062\n",
            "F1 Score 0.7018503757237503\n"
          ]
        }
      ]
    },
    {
      "cell_type": "markdown",
      "source": [
        "**USING SUPERVISED VECTOR MACHINES** on NLTK data"
      ],
      "metadata": {
        "id": "PL2CwNM9I-5S"
      }
    },
    {
      "cell_type": "code",
      "source": [
        "from sklearn import svm\n",
        "from sklearn.metrics import classification_report\n",
        "\n",
        "X=dfnew['processed__text']\n",
        "y=dfnew['sentiment']\n",
        "\n",
        "X__trainn, X__testt, y__trainn, y__testt = train_test_split(X,y, test_size=0.15, random_state=42 )\n",
        "\n",
        "vectorizerr = TfidfVectorizer()\n",
        "\n",
        "X_train_tfidff = vectorizerr.fit_transform(X__trainn)\n",
        "\n",
        "X_test_tfidff = vectorizerr.transform(X__testt)\n",
        "\n",
        "classifier=svm.SVC(kernel='linear', random_state=0, C=1.0, gamma=0.0,coef0=0.0)\n",
        "classifier.fit(X_train_tfidff,y_train)\n",
        "\n",
        "\n",
        "y__predd=classifier.predict(X_test_tfidff)\n",
        "\n",
        "acuracyy = accuracy_score(y__testt, y__predd)\n",
        "precsionn = precision_score(y__testt, y__predd, average='weighted')\n",
        "reccal = recall_score(y__testt, y__predd, average='weighted')\n",
        "f1scr = f1_score(y__testt, y__predd, average='weighted')\n",
        "\n",
        "print(\"Precision:\", precsionn)\n",
        "print(\"Recall:\", reccal)\n",
        "print(\"Accuracy:\", acuracyy)\n",
        "print('F1 Score', f1scr)"
      ],
      "metadata": {
        "colab": {
          "base_uri": "https://localhost:8080/"
        },
        "id": "7JU-hVjqJBOJ",
        "outputId": "7c1bbace-0b2b-4f9e-f48d-9d7f6b509b7a"
      },
      "execution_count": null,
      "outputs": [
        {
          "output_type": "stream",
          "name": "stdout",
          "text": [
            "Precision: 0.7044358516814386\n",
            "Recall: 0.6982047549733139\n",
            "Accuracy: 0.6982047549733139\n",
            "F1 Score 0.6975568637984898\n"
          ]
        }
      ]
    }
  ]
}